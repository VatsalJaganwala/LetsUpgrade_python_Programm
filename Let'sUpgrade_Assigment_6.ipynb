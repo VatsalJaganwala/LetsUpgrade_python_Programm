{
  "nbformat": 4,
  "nbformat_minor": 0,
  "metadata": {
    "colab": {
      "name": "Let'sUpgrade Assigment 6.ipynb",
      "provenance": []
    },
    "kernelspec": {
      "name": "python3",
      "display_name": "Python 3"
    }
  },
  "cells": [
    {
      "cell_type": "code",
      "metadata": {
        "colab": {
          "base_uri": "https://localhost:8080/"
        },
        "id": "yymvqjikVxM-",
        "outputId": "37ff07ea-4b91-4c42-88d2-7f221f820a3c"
      },
      "source": [
        "pip install emails"
      ],
      "execution_count": 6,
      "outputs": [
        {
          "output_type": "stream",
          "text": [
            "Requirement already satisfied: emails in /usr/local/lib/python3.6/dist-packages (0.6)\n",
            "Requirement already satisfied: python-dateutil in /usr/local/lib/python3.6/dist-packages (from emails) (2.8.1)\n",
            "Requirement already satisfied: premailer in /usr/local/lib/python3.6/dist-packages (from emails) (3.7.0)\n",
            "Requirement already satisfied: lxml in /usr/local/lib/python3.6/dist-packages (from emails) (4.2.6)\n",
            "Requirement already satisfied: requests in /usr/local/lib/python3.6/dist-packages (from emails) (2.23.0)\n",
            "Requirement already satisfied: chardet in /usr/local/lib/python3.6/dist-packages (from emails) (3.0.4)\n",
            "Requirement already satisfied: cssutils in /usr/local/lib/python3.6/dist-packages (from emails) (1.0.2)\n",
            "Requirement already satisfied: six>=1.5 in /usr/local/lib/python3.6/dist-packages (from python-dateutil->emails) (1.15.0)\n",
            "Requirement already satisfied: cachetools in /usr/local/lib/python3.6/dist-packages (from premailer->emails) (4.1.1)\n",
            "Requirement already satisfied: cssselect in /usr/local/lib/python3.6/dist-packages (from premailer->emails) (1.1.0)\n",
            "Requirement already satisfied: certifi>=2017.4.17 in /usr/local/lib/python3.6/dist-packages (from requests->emails) (2020.12.5)\n",
            "Requirement already satisfied: idna<3,>=2.5 in /usr/local/lib/python3.6/dist-packages (from requests->emails) (2.10)\n",
            "Requirement already satisfied: urllib3!=1.25.0,!=1.25.1,<1.26,>=1.21.1 in /usr/local/lib/python3.6/dist-packages (from requests->emails) (1.24.3)\n"
          ],
          "name": "stdout"
        }
      ]
    },
    {
      "cell_type": "code",
      "metadata": {
        "id": "0DCuKa7GZB8r"
      },
      "source": [
        "import emails"
      ],
      "execution_count": 8,
      "outputs": []
    },
    {
      "cell_type": "code",
      "metadata": {
        "id": "QYisuFz0WA-Y"
      },
      "source": [
        "message = emails.html(html=\"This Is Sample Mail\",\r\n",
        "                          subject=\"Mail from python OP\",\r\n",
        "                          mail_from=('Hello', 'vatsaljaganwala.com'))\r\n"
      ],
      "execution_count": 9,
      "outputs": []
    },
    {
      "cell_type": "code",
      "metadata": {
        "id": "KdBqHU-0YcHD"
      },
      "source": [
        "mail_via_python = message.send(to='sahilgandhi8402@gmail.com', \r\n",
        "                               smtp={'host': 'smtp.gmail.com', \r\n",
        "                                     'timeout': 5,\r\n",
        "                                    'port':587,\r\n",
        "                                    'user':'jethalalgada12354@gmail.com',\r\n",
        "                                    'password':'6055531407',\r\n",
        "                                    'tls':True})"
      ],
      "execution_count": 10,
      "outputs": []
    },
    {
      "cell_type": "code",
      "metadata": {
        "colab": {
          "base_uri": "https://localhost:8080/"
        },
        "id": "HJdBYkDeZM64",
        "outputId": "3d29246d-67ca-485f-97ce-dd6ddacea391"
      },
      "source": [
        "mail_via_python.status_code\r\n"
      ],
      "execution_count": 12,
      "outputs": [
        {
          "output_type": "execute_result",
          "data": {
            "text/plain": [
              "250"
            ]
          },
          "metadata": {
            "tags": []
          },
          "execution_count": 12
        }
      ]
    }
  ]
}