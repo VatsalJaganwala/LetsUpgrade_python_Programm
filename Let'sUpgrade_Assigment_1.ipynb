{
  "nbformat": 4,
  "nbformat_minor": 0,
  "metadata": {
    "colab": {
      "name": "Let'sUpgrade Assigment 1.ipynb",
      "provenance": []
    },
    "kernelspec": {
      "name": "python3",
      "display_name": "Python 3"
    }
  },
  "cells": [
    {
      "cell_type": "markdown",
      "metadata": {
        "id": "PucKuANGaVsJ"
      },
      "source": [
        "**Assigment Day 2 | 9th December 2020**"
      ]
    },
    {
      "cell_type": "markdown",
      "metadata": {
        "id": "41bppqhOa7Pf"
      },
      "source": [
        "**Question 1** Try 5 Different function of String in Python"
      ]
    },
    {
      "cell_type": "code",
      "metadata": {
        "colab": {
          "base_uri": "https://localhost:8080/"
        },
        "id": "4-Wa4aCJbJXA",
        "outputId": "6f0c2682-e3d7-4208-d2a8-ab56f5eb0dcd"
      },
      "source": [
        "a = 'I love Python Programming'\r\n",
        "str_list = a.split(sep=' ')\r\n",
        "print(str_list)\r\n",
        "print(a.upper())\r\n",
        "print(a.lower())\r\n",
        "print(a.replace('Python', 'Java'))\r\n",
        "print(a.isalnum())"
      ],
      "execution_count": 16,
      "outputs": [
        {
          "output_type": "stream",
          "text": [
            "['I', 'love', 'Python', 'Programming']\n",
            "I LOVE PYTHON PROGRAMMING\n",
            "i love python programming\n",
            "I love Java Programming\n",
            "False\n"
          ],
          "name": "stdout"
        }
      ]
    },
    {
      "cell_type": "markdown",
      "metadata": {
        "id": "GUVSxxPKebS6"
      },
      "source": [
        "**Question 2** Try 5 Different function of list object in Python"
      ]
    },
    {
      "cell_type": "code",
      "metadata": {
        "colab": {
          "base_uri": "https://localhost:8080/"
        },
        "id": "F-rhVXQqeLnL",
        "outputId": "d67e5ccd-aa1a-4b7f-d96e-89030d9af5f0"
      },
      "source": [
        "fruit = ['Apple', 'Mango', 'Banana', 'Orange']\r\n",
        "fruit.append('Grapes')\r\n",
        "print(fruit)\r\n",
        "fruit.sort()\r\n",
        "print(fruit)\r\n",
        "fruit.insert(2,'Cherry')\r\n",
        "print(fruit)\r\n",
        "fruit.reverse()\r\n",
        "print(fruit)\r\n",
        "fruit.remove('Banana')\r\n",
        "print(fruit)"
      ],
      "execution_count": 22,
      "outputs": [
        {
          "output_type": "stream",
          "text": [
            "['Apple', 'Mango', 'Banana', 'Orange', 'Grapes']\n",
            "['Apple', 'Banana', 'Grapes', 'Mango', 'Orange']\n",
            "['Apple', 'Banana', 'Cherry', 'Grapes', 'Mango', 'Orange']\n",
            "['Orange', 'Mango', 'Grapes', 'Cherry', 'Banana', 'Apple']\n",
            "['Orange', 'Mango', 'Grapes', 'Cherry', 'Apple']\n"
          ],
          "name": "stdout"
        }
      ]
    },
    {
      "cell_type": "code",
      "metadata": {
        "colab": {
          "base_uri": "https://localhost:8080/"
        },
        "id": "UFKc99xggQ_f",
        "outputId": "a4e893e3-ebea-49f3-bf43-adaa705ab94c"
      },
      "source": [
        "Phones = {'Samsung': 'Galaxy', 'Xiomi': 'Redmi', 'Apple': 'iPhone'}\r\n",
        "print(Phones.values())\r\n",
        "print(Phones.get('Samsung'))\r\n",
        "Phones.update({'Sony': 'Xperia'})\r\n",
        "print(Phones.copy())\r\n",
        "Phones.pop('Xiomi')\r\n",
        "#remove Xiomi #Boycott China :)\r\n",
        "print(Phones.copy())\r\n",
        "\r\n"
      ],
      "execution_count": 35,
      "outputs": [
        {
          "output_type": "stream",
          "text": [
            "dict_values(['Galaxy', 'Redmi', 'iPhone'])\n",
            "Galaxy\n",
            "{'Samsung': 'Galaxy', 'Xiomi': 'Redmi', 'Apple': 'iPhone', 'Sony': 'Xperia'}\n",
            "{'Samsung': 'Galaxy', 'Apple': 'iPhone', 'Sony': 'Xperia'}\n"
          ],
          "name": "stdout"
        }
      ]
    },
    {
      "cell_type": "code",
      "metadata": {
        "id": "gBFyeYoMh_W_"
      },
      "source": [
        ""
      ],
      "execution_count": null,
      "outputs": []
    }
  ]
}