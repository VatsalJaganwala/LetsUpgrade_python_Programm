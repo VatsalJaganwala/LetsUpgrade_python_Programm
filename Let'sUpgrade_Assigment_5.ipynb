{
  "nbformat": 4,
  "nbformat_minor": 0,
  "metadata": {
    "colab": {
      "name": "Let'sUpgrade Assigment 5",
      "provenance": [],
      "collapsed_sections": []
    },
    "kernelspec": {
      "name": "python3",
      "display_name": "Python 3"
    }
  },
  "cells": [
    {
      "cell_type": "code",
      "metadata": {
        "colab": {
          "base_uri": "https://localhost:8080/"
        },
        "id": "yR81YGwqLwpF",
        "outputId": "960e528a-5d91-4ae2-89d8-98885a3fdf7d"
      },
      "source": [
        "pip install cryptography"
      ],
      "execution_count": null,
      "outputs": [
        {
          "output_type": "stream",
          "text": [
            "Requirement already satisfied: cryptography in /usr/local/lib/python3.6/dist-packages (3.3.1)\n",
            "Requirement already satisfied: cffi>=1.12 in /usr/local/lib/python3.6/dist-packages (from cryptography) (1.14.4)\n",
            "Requirement already satisfied: six>=1.4.1 in /usr/local/lib/python3.6/dist-packages (from cryptography) (1.15.0)\n",
            "Requirement already satisfied: pycparser in /usr/local/lib/python3.6/dist-packages (from cffi>=1.12->cryptography) (2.20)\n"
          ],
          "name": "stdout"
        }
      ]
    },
    {
      "cell_type": "code",
      "metadata": {
        "id": "1yidXZtuLzPb"
      },
      "source": [
        "from cryptography.fernet import Fernet"
      ],
      "execution_count": null,
      "outputs": []
    },
    {
      "cell_type": "code",
      "metadata": {
        "id": "MXm0U8W5L7HR"
      },
      "source": [
        "key = Fernet.generate_key()"
      ],
      "execution_count": null,
      "outputs": []
    },
    {
      "cell_type": "code",
      "metadata": {
        "id": "xYWp0ilSMCnJ"
      },
      "source": [
        "f = Fernet(key)"
      ],
      "execution_count": null,
      "outputs": []
    },
    {
      "cell_type": "code",
      "metadata": {
        "colab": {
          "base_uri": "https://localhost:8080/"
        },
        "id": "sY-81xByM9lw",
        "outputId": "e49bce98-6140-49b4-f86c-4df662720b91"
      },
      "source": [
        "message = (input('Enter the message '))\r\n",
        "message = bytes(message, encoding='utf8')"
      ],
      "execution_count": null,
      "outputs": [
        {
          "output_type": "stream",
          "text": [
            "Enter the message Hello My name is Vatsal\n"
          ],
          "name": "stdout"
        }
      ]
    },
    {
      "cell_type": "code",
      "metadata": {
        "id": "vcZM21kIMIby"
      },
      "source": [
        "pass_key = f.encrypt(message)"
      ],
      "execution_count": null,
      "outputs": []
    },
    {
      "cell_type": "code",
      "metadata": {
        "colab": {
          "base_uri": "https://localhost:8080/"
        },
        "id": "1QPyFN-KMMgx",
        "outputId": "a83d40df-afdd-4256-f3df-367c074a079a"
      },
      "source": [
        "print(\"The message key is \" + str(pass_key))"
      ],
      "execution_count": null,
      "outputs": [
        {
          "output_type": "stream",
          "text": [
            "The message key is b'gAAAAABf23gkl7U9HQl1v3zQUsom23el4i9cnjCcpiT3PeBAysR9u5bgoQ_-LFT4FVpE0TGJ9i94uakSFBG_6AncTS-SFia2ApZIwDqIGDmAJgf4TxZTzlI='\n"
          ],
          "name": "stdout"
        }
      ]
    },
    {
      "cell_type": "code",
      "metadata": {
        "colab": {
          "base_uri": "https://localhost:8080/"
        },
        "id": "77jul9f3MQsR",
        "outputId": "2398e049-66c8-4a2c-9021-7b64c323b448"
      },
      "source": [
        "responce = input('Enter the message code to decrypt it')\r\n",
        "responce = bytes(responce, encoding='utf8')\r\n",
        "f.decrypt(responce)"
      ],
      "execution_count": null,
      "outputs": [
        {
          "output_type": "stream",
          "text": [
            "Enter the message code to decrypt itgAAAAABf23gkl7U9HQl1v3zQUsom23el4i9cnjCcpiT3PeBAysR9u5bgoQ_-LFT4FVpE0TGJ9i94uakSFBG_6AncTS-SFia2ApZIwDqIGDmAJgf4TxZTzlI=\n"
          ],
          "name": "stdout"
        },
        {
          "output_type": "execute_result",
          "data": {
            "text/plain": [
              "b'Hello My name is Vatsal'"
            ]
          },
          "metadata": {
            "tags": []
          },
          "execution_count": 8
        }
      ]
    },
    {
      "cell_type": "code",
      "metadata": {
        "id": "BfXsrewITB53"
      },
      "source": [
        ""
      ],
      "execution_count": null,
      "outputs": []
    }
  ]
}