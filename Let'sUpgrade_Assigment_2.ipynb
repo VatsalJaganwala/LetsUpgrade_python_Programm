{
  "nbformat": 4,
  "nbformat_minor": 0,
  "metadata": {
    "colab": {
      "name": "Let'sUpgrade Assigment 2.ipynb",
      "provenance": []
    },
    "kernelspec": {
      "name": "python3",
      "display_name": "Python 3"
    }
  },
  "cells": [
    {
      "cell_type": "markdown",
      "metadata": {
        "id": "IMARtpqu8bge"
      },
      "source": [
        "\r\n",
        "**Question 1**\r\n",
        "Use IF ELSE and ELIF to write a program in python for your Report Cards.\r\n",
        "\r\n"
      ]
    },
    {
      "cell_type": "code",
      "metadata": {
        "colab": {
          "base_uri": "https://localhost:8080/"
        },
        "id": "cn1Wcy_I4i7-",
        "outputId": "e4511d05-954f-45b2-b03d-0b7a3c64dd62"
      },
      "source": [
        "marks = int(input('Pls Enter Your Marks'))\r\n",
        "if marks >= 90 :\r\n",
        "    print(\"Grade -> A+\")\r\n",
        "elif marks >= 80 and marks <90:\r\n",
        "    print(\"Grade -> A\")\r\n",
        "elif marks >= 70 and marks < 80:\r\n",
        "    print(\"Grade -> B+\")\r\n",
        "elif marks >= 60 and marks <70:\r\n",
        "    print(\"Grade -> B\")\r\n",
        "elif marks >= 50 and marks <60:\r\n",
        "    print(\"Grade -> C+\")\r\n",
        "elif marks >= 40 and marks <50:\r\n",
        "    print(\"Grade -> C\")\r\n",
        "elif marks >= 33 and marks <40:\r\n",
        "    print(\"Grade -> D+\")\r\n",
        "else :\r\n",
        "    print(\"Failed\")\r\n",
        "\r\n"
      ],
      "execution_count": null,
      "outputs": [
        {
          "output_type": "stream",
          "text": [
            "Pls Enter Your Marks60\n",
            "Grade -> B\n"
          ],
          "name": "stdout"
        }
      ]
    },
    {
      "cell_type": "markdown",
      "metadata": {
        "id": "EkbJWE2x8yK2"
      },
      "source": [
        "**Question 2**\r\n",
        "Use For Loop to Print Prime Numbers in between 1 to 1000"
      ]
    },
    {
      "cell_type": "code",
      "metadata": {
        "id": "TNYEOUSW9Dnv"
      },
      "source": [
        "for x in range(1,1000):\r\n",
        "  if x>1:\r\n",
        "    for y in range(2,x):\r\n",
        "        if(x % y==0):\r\n",
        "            break\r\n",
        "    else:\r\n",
        "        print(x)"
      ],
      "execution_count": null,
      "outputs": []
    },
    {
      "cell_type": "markdown",
      "metadata": {
        "id": "h59d1pcrAw_v"
      },
      "source": [
        "**Question 3**\r\n",
        "Write a program for printing the tables from 1,10 using Nested For Loop"
      ]
    },
    {
      "cell_type": "code",
      "metadata": {
        "id": "rVhJcJrm_zBJ"
      },
      "source": [
        "\r\n",
        "for x in range(0,11):\r\n",
        "  print('---------------------------------------')\r\n",
        "  if x>0:\r\n",
        "    for y in range(1,11):\r\n",
        "        z = int(x) * int(y)\r\n",
        "        print(str(x) + ' * ' + str(y) + ' = ' + str(z))\r\n",
        "  print('---------------------------------------')\r\n",
        "\r\n",
        "\r\n"
      ],
      "execution_count": null,
      "outputs": []
    },
    {
      "cell_type": "markdown",
      "metadata": {
        "id": "HPza6K5xZ9zU"
      },
      "source": [
        "**Question 4**\r\n",
        "Write a program to Print X Prime Numbers using While Loop starting from 0, and take the INput of X from\r\n",
        "the user"
      ]
    },
    {
      "cell_type": "code",
      "metadata": {
        "id": "-MPHEcGrWr_J"
      },
      "source": [
        "n =0\r\n",
        "\r\n",
        "Number = 2\r\n",
        "\r\n",
        "p = [] \r\n",
        "\r\n",
        "x = int(input(\"How many prime number you want? \"))\r\n",
        "\r\n",
        "while(Number >= n):\r\n",
        "\r\n",
        "   count = 0\r\n",
        "\r\n",
        "   i = 2\r\n",
        "\r\n",
        "   while(i <= Number//2):\r\n",
        "\r\n",
        "       if(Number % i == 0):\r\n",
        "\r\n",
        "           count = count + 1\r\n",
        "\r\n",
        "           break\r\n",
        "\r\n",
        "       i = i + 1\r\n",
        "\r\n",
        "   if (count == 0):\r\n",
        "\r\n",
        "       p.append(Number)    \r\n",
        "\r\n",
        "   Number = Number  + 1\r\n",
        "\r\n",
        "   if len(p)==x:\r\n",
        "\r\n",
        "       break\r\n",
        "\r\n",
        "print(\"The first \", x, \"prime numbers :\", p)"
      ],
      "execution_count": null,
      "outputs": []
    }
  ]
}