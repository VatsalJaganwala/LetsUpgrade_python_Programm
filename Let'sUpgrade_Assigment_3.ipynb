{
  "nbformat": 4,
  "nbformat_minor": 0,
  "metadata": {
    "colab": {
      "name": "Let'sUpgrade Assigment 3.ipynb",
      "provenance": []
    },
    "kernelspec": {
      "name": "python3",
      "display_name": "Python 3"
    }
  },
  "cells": [
    {
      "cell_type": "markdown",
      "metadata": {
        "id": "DGf5kyiwbTl-"
      },
      "source": [
        "**Question 1**\r\n",
        "\r\n",
        "Write down a program in Python for Opening a File and Writing \" I Love LetsUpgrade\" And close\r\n",
        "it, and read it back again, and then append some data to it and close it."
      ]
    },
    {
      "cell_type": "code",
      "metadata": {
        "id": "SiQbeHGNbISj"
      },
      "source": [
        "xyz = open(\"HEY.txt\",'w')\r\n",
        "xyz.write(\"I Love LetsUpgrade\")\r\n",
        "xyz.close()"
      ],
      "execution_count": 19,
      "outputs": []
    },
    {
      "cell_type": "code",
      "metadata": {
        "colab": {
          "base_uri": "https://localhost:8080/",
          "height": 35
        },
        "id": "t635ELxrcboR",
        "outputId": "05875811-146c-4e68-b078-dc89e4873a6b"
      },
      "source": [
        "xyz = open(\"HEY.txt\",'r')\r\n",
        "content = xyz.read()\r\n",
        "xyz.close()\r\n",
        "content"
      ],
      "execution_count": 20,
      "outputs": [
        {
          "output_type": "execute_result",
          "data": {
            "application/vnd.google.colaboratory.intrinsic+json": {
              "type": "string"
            },
            "text/plain": [
              "'I Love LetsUpgrade'"
            ]
          },
          "metadata": {
            "tags": []
          },
          "execution_count": 20
        }
      ]
    },
    {
      "cell_type": "code",
      "metadata": {
        "id": "bxdMY_2jdINn"
      },
      "source": [
        "xyz = open(\"HEY.txt\",'a')\r\n",
        "xyz.write(\" and I Love Python\")\r\n",
        "xyz.close()"
      ],
      "execution_count": 21,
      "outputs": []
    },
    {
      "cell_type": "code",
      "metadata": {
        "colab": {
          "base_uri": "https://localhost:8080/",
          "height": 35
        },
        "id": "Utey3P8HdTUV",
        "outputId": "a313942d-d919-4af4-b5b5-3b535ab507c3"
      },
      "source": [
        "xyz = open(\"HEY.txt\",'r')\r\n",
        "content = xyz.read()\r\n",
        "xyz.close()\r\n",
        "content"
      ],
      "execution_count": 22,
      "outputs": [
        {
          "output_type": "execute_result",
          "data": {
            "application/vnd.google.colaboratory.intrinsic+json": {
              "type": "string"
            },
            "text/plain": [
              "'I Love LetsUpgrade and I Love Python'"
            ]
          },
          "metadata": {
            "tags": []
          },
          "execution_count": 22
        }
      ]
    },
    {
      "cell_type": "markdown",
      "metadata": {
        "id": "uf36s4-EdlNY"
      },
      "source": [
        "**Question 2**\r\n",
        "\r\n",
        "Write a function which can return a Factorial of any numbers as INT, given in the argument."
      ]
    },
    {
      "cell_type": "code",
      "metadata": {
        "id": "d-Raw-r6dp_E"
      },
      "source": [
        "def fact(n):\r\n",
        "  number = int(n)\r\n",
        "  ans=1\r\n",
        "  while number>0:\r\n",
        "    ans=ans*number\r\n",
        "    number=number-1\r\n",
        "  print(ans)\r\n",
        "\r\n"
      ],
      "execution_count": null,
      "outputs": []
    },
    {
      "cell_type": "code",
      "metadata": {
        "colab": {
          "base_uri": "https://localhost:8080/"
        },
        "id": "DTwwsdHGfCnn",
        "outputId": "e861e54d-15a7-4c56-ec48-d450d5a7a65a"
      },
      "source": [
        "fact(6)"
      ],
      "execution_count": 39,
      "outputs": [
        {
          "output_type": "stream",
          "text": [
            "720\n"
          ],
          "name": "stdout"
        }
      ]
    }
  ]
}